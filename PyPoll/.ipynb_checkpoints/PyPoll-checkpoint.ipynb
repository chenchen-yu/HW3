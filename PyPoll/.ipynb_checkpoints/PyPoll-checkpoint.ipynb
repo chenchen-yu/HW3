{
 "cells": [
  {
   "cell_type": "code",
   "execution_count": 111,
   "metadata": {},
   "outputs": [],
   "source": [
    "import os\n",
    "import csv\n",
    "csvpath=\"/Users/chenchen/Downloads/HW/HW3/python-challenge/PyPoll/election_data.csv\""
   ]
  },
  {
   "cell_type": "code",
   "execution_count": 112,
   "metadata": {
    "scrolled": true
   },
   "outputs": [],
   "source": [
    "with open(csvpath, newline=\"\") as csvfile:\n",
    "    csvreader = csv.reader(csvfile, delimiter=\",\")\n",
    "    csv_header = next(csvreader)\n",
    "    #print(f\"CSV Header: {csv_header}\")\n",
    "    \n",
    "    #The The total number of votes cast \n",
    "    total_votes=0\n",
    "    candidate=[]\n",
    "    candidate_list=[] \n",
    "    percen_list=[]\n",
    "    n=0\n",
    "    \n",
    "    for row in csvreader:\n",
    "        total_votes += 1 #method 2: row_count = sum(1 for row in csvreader) \n",
    "        candidate.append(row[2])\n",
    "        \n",
    "        if row[2] not in candidate_list:\n",
    "            candidate_list.append(row[2])\n",
    "            \n",
    "    candidate_votes = {i:candidate.count(i) for i in candidate_list}\n",
    "    \n",
    "    per_Khan=\"{0:.3f}%\".format(100*int(candidate_votes[candidate_list[0]])/total_votes)\n",
    "    per_Correy=\"{0:.3f}%\".format(100*int(candidate_votes[candidate_list[1]])/total_votes)\n",
    "    per_Li=\"{0:.3f}%\".format(100*int(candidate_votes[candidate_list[2]])/total_votes)\n",
    "    per_OTooley=\"{0:.3f}%\".format(100*int(candidate_votes[candidate_list[3]])/total_votes)"
   ]
  },
  {
   "cell_type": "code",
   "execution_count": 113,
   "metadata": {},
   "outputs": [
    {
     "name": "stdout",
     "output_type": "stream",
     "text": [
      "Election Results\n",
      "---------------------------------------------\n",
      "Total Votes: 3521001\n",
      "---------------------------------------------\n",
      "Khan: 63.000% (2218231)\n",
      "Correy: 20.000% (704200)\n",
      "Li: 14.000% (492940)\n",
      "O'Tooley: 3.000% (105630)\n",
      "---------------------------------------------\n",
      "Winner: Khan\n",
      "---------------------------------------------\n"
     ]
    }
   ],
   "source": [
    "#print the analysis to the terminal\n",
    "print (\"Election Results\")\n",
    "print (\"---------------------------------------------\") \n",
    "print (f'Total Votes: {total_votes}')  \n",
    "print (\"---------------------------------------------\") \n",
    "print (f'{candidate_list[0]}: {per_Khan} ({candidate_votes[candidate_list[0]]})')\n",
    "print (f'{candidate_list[1]}: {per_Correy} ({candidate_votes[candidate_list[1]]})')\n",
    "print (f'{candidate_list[2]}: {per_Li} ({candidate_votes[candidate_list[2]]})')\n",
    "print (f'{candidate_list[3]}: {per_OTooley} ({candidate_votes[candidate_list[3]]})')\n",
    "print (\"---------------------------------------------\") \n",
    "print (\"Winner: Khan\" )\n",
    "print (\"---------------------------------------------\") "
   ]
  },
  {
   "cell_type": "code",
   "execution_count": 114,
   "metadata": {},
   "outputs": [],
   "source": [
    "#export a text file with the results\n",
    "txtpath=\"/Users/chenchen/Downloads/HW/HW3/python-challenge/PyPoll/output.txt\"\n",
    "txtfile = open(txtpath,'w') "
   ]
  },
  {
   "cell_type": "code",
   "execution_count": 115,
   "metadata": {},
   "outputs": [],
   "source": [
    "txtfile.write(\"Election Results\\n\")\n",
    "txtfile.write(\"---------------------------------------------\\n\")\n",
    "txtfile.write(\"Total Votes: \" + str(total_votes) +'\\n')\n",
    "txtfile.write(\"---------------------------------------------\\n\")\n",
    "txtfile.write(candidate_list[0] + \" : \" + per_Khan + \"  (\" + str(candidate_votes[candidate_list[0]]) + \")\" +'\\n')\n",
    "txtfile.write(candidate_list[1] + \" : \" + per_Correy + \"  (\" + str(candidate_votes[candidate_list[1]]) + \")\" +'\\n')\n",
    "txtfile.write(candidate_list[2] + \" : \" + per_Li + \"  (\" + str(candidate_votes[candidate_list[2]]) + \")\" +'\\n')\n",
    "txtfile.write(candidate_list[3] + \" : \" + per_OTooley + \"  (\" + str(candidate_votes[candidate_list[3]]) + \")\" +'\\n')\n",
    "txtfile.write(\"---------------------------------------------\\n\")\n",
    "txtfile.write(\"Winner: Khan\\n\")\n",
    "txtfile.write(\"---------------------------------------------\\n\")\n",
    "txtfile.close() "
   ]
  },
  {
   "cell_type": "code",
   "execution_count": null,
   "metadata": {},
   "outputs": [],
   "source": []
  }
 ],
 "metadata": {
  "kernelspec": {
   "display_name": "Python [conda env:PythonData]",
   "language": "python",
   "name": "conda-env-PythonData-py"
  },
  "language_info": {
   "codemirror_mode": {
    "name": "ipython",
    "version": 3
   },
   "file_extension": ".py",
   "mimetype": "text/x-python",
   "name": "python",
   "nbconvert_exporter": "python",
   "pygments_lexer": "ipython3",
   "version": "3.6.5"
  }
 },
 "nbformat": 4,
 "nbformat_minor": 2
}
