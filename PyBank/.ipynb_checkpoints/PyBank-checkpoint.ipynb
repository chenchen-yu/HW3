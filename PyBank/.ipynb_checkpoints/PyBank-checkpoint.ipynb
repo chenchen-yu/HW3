{
 "cells": [
  {
   "cell_type": "code",
   "execution_count": null,
   "metadata": {},
   "outputs": [],
   "source": [
    "import os\n",
    "import csv"
   ]
  },
  {
   "cell_type": "code",
   "execution_count": null,
   "metadata": {},
   "outputs": [],
   "source": [
    "csvpath=\"/Users/chenchen/Downloads/HW/HW3/python-challenge/PyBank/budget_data.csv\""
   ]
  },
  {
   "cell_type": "code",
   "execution_count": null,
   "metadata": {
    "scrolled": true
   },
   "outputs": [],
   "source": [
    "with open(csvpath, newline=\"\") as csvfile:\n",
    "    csvreader = csv.reader(csvfile, delimiter=\",\")\n",
    "    csv_header = next(csvreader)\n",
    "    #print(f\"CSV Header: {csv_header}\")\n",
    "    \n",
    "    #The total number of months included in the dataset \n",
    "    #The total net amount of \"Profit/Losses\" over the entire period\n",
    "    row_count = 0\n",
    "    total_net = 0\n",
    "    last_month = 0\n",
    "    \n",
    "    month=[]\n",
    "    increase=[]\n",
    "    \n",
    "    for row in csvreader:\n",
    "        row_count += 1 #method 2: row_count = sum(1 for row in csvreader) \n",
    "        total_net += int(row[1])\n",
    "        increase.append(int(row[1]) - last_month)\n",
    "        last_month = int(row[1])  \n",
    "        \n",
    "        month.append(row[0])\n",
    "    \n",
    "    #format total net amount\n",
    "    total_net = '${:}'.format(total_net)\n",
    "    #The average change in \"Profit/Losses\" between months over the entire period\n",
    "    ave_change = '${:}'.format(round(sum(increase[1:len(increase)])/(row_count-1),2))\n",
    "    \n",
    "    #The greatest increase in profits (date and amount) over the entire period\n",
    "    max_increase='${:}'.format(max(increase))\n",
    "    max_increase_month=month[increase.index(max(increase))]\n",
    "    #The greatest decrease in losses (date and amount) over the entire period\n",
    "    min_increase='${:}'.format(min(increase))\n",
    "    min_increase_month=month[increase.index(min(increase))]\n",
    "    \n",
    "#print the analysis to the terminal\n",
    "print (\"Financial Analysis\")\n",
    "print (\"---------------------------------------------\") \n",
    "print (f'Total Months: {row_count}')\n",
    "print (f'Total: {total_net}' )\n",
    "print (f'Average Change: {ave_change}')\n",
    "print (f'Greatest Increase in Profits: {max_increase_month} ({max_increase})')\n",
    "print (f'Greatest Decrease in Profits: {min_increase_month} ({min_increase})')     "
   ]
  },
  {
   "cell_type": "code",
   "execution_count": null,
   "metadata": {},
   "outputs": [],
   "source": [
    "#export a text file with the results\n",
    "txtpath=\"/Users/chenchen/Downloads/HW/HW3/python-challenge/PyBank/output.txt\"\n",
    "txtfile = open(txtpath,'w') "
   ]
  },
  {
   "cell_type": "code",
   "execution_count": null,
   "metadata": {},
   "outputs": [],
   "source": [
    "txtfile.write(\"Financial Analysis\\n\")\n",
    "txtfile.write(\"---------------------------------------------\\n\")\n",
    "txtfile.write(\"Total Months: \" + str(row_count) +'\\n')\n",
    "txtfile.write(\"Total: \" + str(total_net) +'\\n')\n",
    "txtfile.write(\"Average Change: \" + str(ave_change) +'\\n')\n",
    "txtfile.write(\"Greatest Increase in Profits: \" + max_increase_month + \" \" + \"(\" + str(max_increase) + \")\" + '\\n')\n",
    "txtfile.write(\"Greatest Decrease in Profits: \" + min_increase_month + \" \" + \"(\" + str(min_increase) + \")\" + '\\n')\n",
    "txtfile.close() "
   ]
  }
 ],
 "metadata": {
  "kernelspec": {
   "display_name": "Python [conda env:PythonData]",
   "language": "python",
   "name": "conda-env-PythonData-py"
  },
  "language_info": {
   "codemirror_mode": {
    "name": "ipython",
    "version": 3
   },
   "file_extension": ".py",
   "mimetype": "text/x-python",
   "name": "python",
   "nbconvert_exporter": "python",
   "pygments_lexer": "ipython3",
   "version": "3.6.5"
  }
 },
 "nbformat": 4,
 "nbformat_minor": 2
}
